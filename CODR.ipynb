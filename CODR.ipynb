{
  "nbformat": 4,
  "nbformat_minor": 0,
  "metadata": {
    "colab": {
      "name": "CODR.ipynb",
      "provenance": [],
      "collapsed_sections": [],
      "authorship_tag": "ABX9TyORcC73GbZnp/qV+s2DcwXa",
      "include_colab_link": true
    },
    "kernelspec": {
      "name": "python3",
      "display_name": "Python 3"
    },
    "language_info": {
      "name": "python"
    }
  },
  "cells": [
    {
      "cell_type": "markdown",
      "metadata": {
        "id": "view-in-github",
        "colab_type": "text"
      },
      "source": [
        "<a href=\"https://colab.research.google.com/github/sadneurons/DjangoDementiaDashboard/blob/master/CODR.ipynb\" target=\"_parent\"><img src=\"https://colab.research.google.com/assets/colab-badge.svg\" alt=\"Open In Colab\"/></a>"
      ]
    },
    {
      "cell_type": "markdown",
      "metadata": {
        "id": "tk407DQrwG8r"
      },
      "source": [
        "# Import statements and R magic"
      ]
    },
    {
      "cell_type": "code",
      "metadata": {
        "id": "XBmkD_W_M2nl"
      },
      "source": [
        "# !pip install pandas\n",
        "# !pip install statistics\n",
        "# !pip install matplotlib \n",
        "# !pip install numpy\n",
        "# !pip install jupyter_contrib_nbextensions\n",
        "# !pip install prettyprint\n",
        "import pandas as pd\n",
        "import statistics as stats\n",
        "import numpy as np\n",
        "import matplotlib\n",
        "import nbextensions\n",
        "import collections \n",
        "from pprint import pprint\n",
        "%load_ext rpy2.ipython\n",
        "# import artichoke # my own functions for data analysis \n",
        "path = '/content/drive/MyDrive/Colab Notebooks/CODR_Data'"
      ],
      "execution_count": null,
      "outputs": []
    },
    {
      "cell_type": "markdown",
      "metadata": {
        "id": "ow8arYwpwQXR"
      },
      "source": [
        "# Bespoke functions for analyzing *dataframes*"
      ]
    },
    {
      "cell_type": "code",
      "metadata": {
        "id": "IayzkOyOKV9p"
      },
      "source": [
        "def getObjectCols(df):\n",
        "# for each column of a dataframe\n",
        "    x = [df[item].dtype.str for item in df.columns] \n",
        "    return df.columns[[col == '|O' for col in x]]\n",
        "# pretty print the levels of \"factors\" as in R\n",
        "\n",
        "def lengthUniqueValuesObjectCols(df):\n",
        "    index = getObjectCols(df)\n",
        "    output = {item: (len(set(df[item]))) for item in index}\n",
        "    return output\n",
        "\n",
        "def lengthUniqueValuesAllCols(df):\n",
        "    output = {item: (len(set(df[item]))) for item in df.columns}\n",
        "    return output\n",
        "\n",
        "def countPercentages(list):\n",
        "    from collections import Counter\n",
        "    l = list\n",
        "    c = Counter(list)\n",
        "    return {i: round(c[i] / len(l) * 100.0, 2) for i in c}\n"
      ],
      "execution_count": null,
      "outputs": []
    },
    {
      "cell_type": "markdown",
      "metadata": {
        "id": "RC29ZA7LwDWD"
      },
      "source": [
        "# Data cleaning"
      ]
    },
    {
      "cell_type": "markdown",
      "metadata": {
        "id": "cJ_DiYAQw0U9"
      },
      "source": [
        "### Demographics"
      ]
    },
    {
      "cell_type": "code",
      "metadata": {
        "id": "VmbKCXn_M0SE"
      },
      "source": [
        "# read in the demographics file for basic descriptive stats\n",
        "pdfilepath = path + '/dm.csv'\n",
        "demographics = pd.read_csv(pdfilepath)"
      ],
      "execution_count": null,
      "outputs": []
    },
    {
      "cell_type": "code",
      "metadata": {
        "colab": {
          "base_uri": "https://localhost:8080/"
        },
        "id": "ocnsTS6pM2yz",
        "outputId": "f046974f-d82e-4cc2-fd26-4753a8faabda"
      },
      "source": [
        "levels  = (lengthUniqueValuesAllCols(demographics))\n",
        "pprint(levels)"
      ],
      "execution_count": null,
      "outputs": [
        {
          "output_type": "stream",
          "text": [
            "{'ACTARM': 7163,\n",
            " 'ACTARMCD': 7163,\n",
            " 'AGE': 48,\n",
            " 'AGEU': 1,\n",
            " 'ARM': 7,\n",
            " 'ARMCD': 12,\n",
            " 'COUNTRY': 47,\n",
            " 'DMDTC': 7163,\n",
            " 'DMDTC_TS': 7163,\n",
            " 'DMDY': 7163,\n",
            " 'DMENDY': 7163,\n",
            " 'DOMAIN': 2,\n",
            " 'DTHDTC': 7163,\n",
            " 'DTHFL': 7163,\n",
            " 'ETHNIC': 4,\n",
            " 'INVID': 200,\n",
            " 'INVNAM': 7163,\n",
            " 'RACE': 10,\n",
            " 'RFENDTC': 7163,\n",
            " 'RFENDTC_TS': 7163,\n",
            " 'RFSTDTC': 7163,\n",
            " 'RFSTDTC_TS': 7163,\n",
            " 'SEX': 2,\n",
            " 'SITEID': 921,\n",
            " 'STUDYID': 29,\n",
            " 'SUBJID': 5397,\n",
            " 'USUBJID': 7163}\n"
          ],
          "name": "stdout"
        }
      ]
    },
    {
      "cell_type": "code",
      "metadata": {
        "colab": {
          "base_uri": "https://localhost:8080/"
        },
        "id": "N6yyEuXxM7oh",
        "outputId": "3d03c41d-5b61-407f-c3b7-11097fbd6968"
      },
      "source": [
        "ethnicities = dict(collections.Counter(demographics.RACE))\n",
        "print(ethnicities)\n",
        "for key, value in countPercentages(demographics.RACE).items():\n",
        "    print(f'{key}:\\t\\t\\t{value}')"
      ],
      "execution_count": null,
      "outputs": [
        {
          "output_type": "stream",
          "text": [
            "{'WHITE': 6555, 'OTHER': 98, 'ASIAN': 309, nan: 7, 'BLACK OR AFRICAN AMERICAN': 175, 'MULTIPLE': 1, 'NATIVE HAWAIIAN OR OTHER PACIFIC ISLANDER': 2, 'AMERICAN INDIAN OR ALASKA NATIVE': 12, 'MUTIPLE': 2, 'UNKNOWN': 2}\n",
            "WHITE:\t\t\t91.51\n",
            "OTHER:\t\t\t1.37\n",
            "ASIAN:\t\t\t4.31\n",
            "nan:\t\t\t0.1\n",
            "BLACK OR AFRICAN AMERICAN:\t\t\t2.44\n",
            "MULTIPLE:\t\t\t0.01\n",
            "NATIVE HAWAIIAN OR OTHER PACIFIC ISLANDER:\t\t\t0.03\n",
            "AMERICAN INDIAN OR ALASKA NATIVE:\t\t\t0.17\n",
            "MUTIPLE:\t\t\t0.03\n",
            "UNKNOWN:\t\t\t0.03\n"
          ],
          "name": "stdout"
        }
      ]
    },
    {
      "cell_type": "code",
      "metadata": {
        "colab": {
          "base_uri": "https://localhost:8080/",
          "height": 438
        },
        "id": "3bdfO1y8M-yM",
        "outputId": "4a8cb9e0-6039-45a6-f01a-40784e75e098"
      },
      "source": [
        "# Age:\n",
        "pprint(demographics.columns)\n",
        "print(set(demographics.AGE))\n",
        "# drop the nas and the 999\n",
        "participantsTotal = len(set(demographics.USUBJID))\n",
        "missingAges = len([item for item in demographics.AGE[(demographics.AGE==999.0) | (np.isnan(demographics.AGE))]])\n",
        "print(f'{missingAges} are missing an age entry') # number missing Ages\n",
        "# replace 999 with nan for uniformity\n",
        "demographics.AGE = demographics.AGE.replace(999.0, None)\n",
        "pd.plotting.hist_series(demographics.AGE, bins=20)"
      ],
      "execution_count": null,
      "outputs": [
        {
          "output_type": "stream",
          "text": [
            "Index(['STUDYID', 'DOMAIN', 'USUBJID', 'SUBJID', 'RFSTDTC', 'RFENDTC',\n",
            "       'DTHDTC', 'DTHFL', 'SITEID', 'INVID', 'AGE', 'AGEU', 'SEX', 'RACE',\n",
            "       'ETHNIC', 'ARMCD', 'ARM', 'ACTARMCD', 'ACTARM', 'COUNTRY', 'DMDTC',\n",
            "       'DMDY', 'DMENDY', 'DMDTC_TS', 'INVNAM', 'RFENDTC_TS', 'RFSTDTC_TS'],\n",
            "      dtype='object')\n",
            "{nan, nan, 45.0, 46.0, 47.0, 48.0, 49.0, 50.0, 51.0, 52.0, 53.0, 54.0, 55.0, 56.0, 57.0, 58.0, 59.0, 60.0, 61.0, 62.0, 63.0, 64.0, 65.0, 66.0, 67.0, 68.0, 69.0, 70.0, 71.0, 72.0, 73.0, 74.0, 75.0, 76.0, 77.0, 78.0, 79.0, 80.0, 81.0, 82.0, 83.0, 84.0, 85.0, 86.0, 87.0, 88.0, 89.0, 999.0}\n",
            "103 are missing an age entry\n"
          ],
          "name": "stdout"
        },
        {
          "output_type": "execute_result",
          "data": {
            "text/plain": [
              "<matplotlib.axes._subplots.AxesSubplot at 0x7f2a146e6390>"
            ]
          },
          "metadata": {
            "tags": []
          },
          "execution_count": 14
        },
        {
          "output_type": "display_data",
          "data": {
            "image/png": "[encoded data removed]",
            "text/plain": [
              "<Figure size 432x288 with 1 Axes>"
            ]
          },
          "metadata": {
            "tags": [],
            "needs_background": "light"
          }
        }
      ]
    },
    {
      "cell_type": "code",
      "metadata": {
        "colab": {
          "base_uri": "https://localhost:8080/"
        },
        "id": "lIb-jos-NCNe",
        "outputId": "8bb555c8-8c25-4f3a-ff3a-c99e208b8c59"
      },
      "source": [
        "medianAgeCODR = stats.median(demographics.AGE)\n",
        "sdAgeCODR = stats.stdev(demographics.AGE.dropna())\n",
        "maxAgeCODR , minAgeCODR =  max(demographics.AGE.dropna()), min(demographics.AGE.dropna())\n",
        "print(f'The median age is {medianAgeCODR} years (sd = {sdAgeCODR:.1f} years) with a range of {minAgeCODR} to {maxAgeCODR} years.')"
      ],
      "execution_count": null,
      "outputs": [
        {
          "output_type": "stream",
          "text": [
            "The median age is 75.0 years (sd = 8.5 years) with a range of 45.0 to 89.0 years.\n"
          ],
          "name": "stdout"
        }
      ]
    },
    {
      "cell_type": "code",
      "metadata": {
        "colab": {
          "base_uri": "https://localhost:8080/"
        },
        "id": "e3CN3cyFNEtv",
        "outputId": "d04ed3ff-a152-4157-8b08-2a8fdc8d9f63"
      },
      "source": [
        "sexDict = dict(collections.Counter(demographics.SEX))\n",
        "women = sexDict['F']\n",
        "men = sexDict['M']\n",
        "womenperc = 100*women/participantsTotal\n",
        "menperc = 100*men/participantsTotal\n",
        "print(f'There were {women} ({womenperc:.1f}%) women and {men} ({menperc:.1f}%) men.')"
      ],
      "execution_count": null,
      "outputs": [
        {
          "output_type": "stream",
          "text": [
            "There were 4015 (56.1%) women and 3148 (43.9%) men.\n"
          ],
          "name": "stdout"
        }
      ]
    },
    {
      "cell_type": "markdown",
      "metadata": {
        "id": "jWSyTq6Mw7p4"
      },
      "source": [
        "### ADAS-Cog data cleaning"
      ]
    },
    {
      "cell_type": "code",
      "metadata": {
        "colab": {
          "base_uri": "https://localhost:8080/"
        },
        "id": "BXo_NVYPNJaZ",
        "outputId": "e2d811f8-60be-414c-e076-c0fff553e9eb"
      },
      "source": [
        "qsfilepath  = path + '/qs.csv'\n",
        "qs = pd.read_csv(qsfilepath)\n",
        "set(qs.QSCAT)"
      ],
      "execution_count": null,
      "outputs": [
        {
          "output_type": "stream",
          "text": [
            "/usr/local/lib/python3.7/dist-packages/IPython/core/interactiveshell.py:2718: DtypeWarning: Columns (0,4,5,10,11,12,14,15,16,17,18,21,26,31) have mixed types.Specify dtype option on import or set low_memory=False.\n",
            "  interactivity=interactivity, compiler=compiler, result=result)\n"
          ],
          "name": "stderr"
        },
        {
          "output_type": "execute_result",
          "data": {
            "text/plain": [
              "{'ACTIVITIES OF DAILY LIVING INVENTORY (ADCS-ADL)',\n",
              " 'ADAS-COG',\n",
              " 'ADCS-ADL',\n",
              " 'ADCS-CGIC',\n",
              " 'C-SSRS BASELINE',\n",
              " 'C-SSRS SINCE LAST VISIT',\n",
              " 'CLINICAL DEMENTIA RATING',\n",
              " 'DAD',\n",
              " 'DEMQOL-PROXY',\n",
              " 'MMSE',\n",
              " 'NEUROPSYCHIATRIC INVENTORY (NPI) SCORING SUMMARY',\n",
              " 'NPI',\n",
              " 'SIB'}"
            ]
          },
          "metadata": {
            "tags": []
          },
          "execution_count": 20
        }
      ]
    },
    {
      "cell_type": "code",
      "metadata": {
        "id": "2pbC7j_wNLVU"
      },
      "source": [
        "# take out the ADAS-COG data\n",
        "adas = qs[qs.QSCAT==\"ADAS-COG\"]"
      ],
      "execution_count": null,
      "outputs": []
    },
    {
      "cell_type": "code",
      "metadata": {
        "colab": {
          "base_uri": "https://localhost:8080/"
        },
        "id": "mZWwuo9eNNSA",
        "outputId": "5946042c-c6aa-4091-c715-0961b525a6dd"
      },
      "source": [
        "set(adas.QSSCAT)"
      ],
      "execution_count": null,
      "outputs": [
        {
          "output_type": "execute_result",
          "data": {
            "text/plain": [
              "{'COMMANDS',\n",
              " 'COMMANDS DETAIL',\n",
              " 'COMMANDS SUMMARY',\n",
              " 'COMPREHENSION',\n",
              " 'CONSTRUCTIONAL PRAXIS',\n",
              " 'CONSTRUCTIONAL PRAXIS DETAIL',\n",
              " 'CONSTRUCTIONAL PRAXIS SUMMARY',\n",
              " 'DEGREE OF IMPAIRMENT',\n",
              " 'DELAYED WORD RECALL',\n",
              " 'DELAYED WORD RECALL DETAIL',\n",
              " 'DELAYED WORD RECALL SUMMARY',\n",
              " 'EXECUTION FUNCTION MAZES',\n",
              " 'EXECUTIVE FUNCTION MAZE DETAIL',\n",
              " 'EXECUTIVE FUNCTION MAZE SUMMARY',\n",
              " 'IDEATIONAL PRAXIS',\n",
              " 'IDEATIONAL PRAXIS DETAIL',\n",
              " 'IDEATIONAL PRAXIS SUMMARY',\n",
              " 'NAMING OBJECTS AND FINGERS',\n",
              " 'NAMING OBJECTS AND FINGERS DETAIL',\n",
              " 'NAMING OBJECTS AND FINGERS SUMMARY',\n",
              " 'NUMBER CANCELLATION',\n",
              " 'NUMBER CANCELLATION DETAIL',\n",
              " 'NUMBER CANCELLATION SUMMARY',\n",
              " 'ORIENTATION',\n",
              " 'ORIENTATION DETAIL',\n",
              " 'ORIENTATION SUMMARY',\n",
              " 'WORD RECALL',\n",
              " 'WORD RECALL DETAIL',\n",
              " 'WORD RECALL SUMMARY',\n",
              " 'WORD RECOGNITION',\n",
              " 'WORD RECOGNITION DETAIL',\n",
              " 'WORD RECOGNITION SUMMARY',\n",
              " nan}"
            ]
          },
          "metadata": {
            "tags": []
          },
          "execution_count": 22
        }
      ]
    },
    {
      "cell_type": "code",
      "metadata": {
        "id": "D9vjzzATVU_n"
      },
      "source": [
        "# we really only want the data summaries\n",
        "catlist = [ 'COMMANDS SUMMARY', 'CONSTRUCTIONAL PRAXIS SUMMARY',\n",
        "          'DEGREE OF IMPAIRMENT',  'DELAYED WORD RECALL SUMMARY', 'EXECUTIVE FUNCTION MAZE SUMMARY',\n",
        "           'IDEATIONAL PRAXIS SUMMARY', 'NAMING OBJECTS AND FINGERS SUMMARY',\n",
        "           'NUMBER CANCELLATION SUMMARY',  'ORIENTATION SUMMARY',  'WORD RECALL SUMMARY',\n",
        "          'WORD RECOGNITION SUMMARY']"
      ],
      "execution_count": null,
      "outputs": []
    },
    {
      "cell_type": "code",
      "metadata": {
        "id": "RT4Fs6BEbaof"
      },
      "source": [
        "adasum = adas[[item in catlist for item in adas.QSSCAT]]"
      ],
      "execution_count": null,
      "outputs": []
    },
    {
      "cell_type": "code",
      "metadata": {
        "colab": {
          "base_uri": "https://localhost:8080/"
        },
        "id": "VVm23-CBb2h5",
        "outputId": "2d80c44f-5b62-4ad6-d463-71e9e49e9a05"
      },
      "source": [
        "set(adasum.QSSCAT)"
      ],
      "execution_count": null,
      "outputs": [
        {
          "output_type": "execute_result",
          "data": {
            "text/plain": [
              "{'COMMANDS SUMMARY',\n",
              " 'CONSTRUCTIONAL PRAXIS SUMMARY',\n",
              " 'DEGREE OF IMPAIRMENT',\n",
              " 'DELAYED WORD RECALL SUMMARY',\n",
              " 'EXECUTIVE FUNCTION MAZE SUMMARY',\n",
              " 'IDEATIONAL PRAXIS SUMMARY',\n",
              " 'NAMING OBJECTS AND FINGERS SUMMARY',\n",
              " 'NUMBER CANCELLATION SUMMARY',\n",
              " 'ORIENTATION SUMMARY',\n",
              " 'WORD RECALL SUMMARY',\n",
              " 'WORD RECOGNITION SUMMARY'}"
            ]
          },
          "metadata": {
            "tags": []
          },
          "execution_count": 63
        }
      ]
    },
    {
      "cell_type": "code",
      "metadata": {
        "colab": {
          "base_uri": "https://localhost:8080/"
        },
        "id": "Z7Fo9NxPcEZa",
        "outputId": "7fa044ca-fc41-4925-f00c-b9045d8bc3a1"
      },
      "source": [
        "# Save to csv file for reloading into R for ggplot2\n",
        "exportpath = path + '/adasum.csv'\n",
        "adasum.to_csv(exportpath, index=False) # then switch to R\n",
        "print(exportpath)"
      ],
      "execution_count": null,
      "outputs": [
        {
          "output_type": "stream",
          "text": [
            "/content/drive/MyDrive/Colab Notebooks/CODR_Data/adasum.csv\n"
          ],
          "name": "stdout"
        }
      ]
    },
    {
      "cell_type": "code",
      "metadata": {
        "id": "KKd9e9RkdKSO"
      },
      "source": [
        "%%R\n",
        "library(dplyr)\n",
        "library(tidyr)\n",
        "library(readr)\n",
        "radasum = read_csv('/content/drive/MyDrive/Colab Notebooks/CODR_Data/adasum.csv')"
      ],
      "execution_count": null,
      "outputs": []
    },
    {
      "cell_type": "code",
      "metadata": {
        "colab": {
          "base_uri": "https://localhost:8080/",
          "height": 535
        },
        "id": "hufDi_h6etcX",
        "outputId": "ab45cdd0-2c7b-4a0b-b55d-3dca03b65467"
      },
      "source": [
        "%%R\n",
        "library(ggplot2)\n",
        "ggplot(data=radasum, aes(x=QSDY, y=QSSTRESN, group=radasum$STUDYID)) + geom_smooth() + facet_wrap(~QSSCAT) "
      ],
      "execution_count": null,
      "outputs": [
        {
          "output_type": "stream",
          "text": [
            "R[write to console]: `geom_smooth()` using method = 'gam' and formula 'y ~ s(x, bs = \"cs\")'\n",
            "\n"
          ],
          "name": "stderr"
        },
        {
          "output_type": "display_data",
          "data": {
            "image/png": "[encoded data removed]"
          },
          "metadata": {
            "tags": []
          }
        }
      ]
    },
    {
      "cell_type": "code",
      "metadata": {
        "id": "HcaDR1N_hd2O"
      },
      "source": [
        ""
      ],
      "execution_count": null,
      "outputs": []
    },
    {
      "cell_type": "markdown",
      "metadata": {
        "id": "AhZCKt2kjaDM"
      },
      "source": [
        "Blend in demographic data from above"
      ]
    },
    {
      "cell_type": "code",
      "metadata": {
        "colab": {
          "base_uri": "https://localhost:8080/"
        },
        "id": "6YCeO-YnjkKX",
        "outputId": "12f3d99c-41e5-4004-a694-49aa5dfc7cc0"
      },
      "source": [
        "demmerge = demographics[['USUBJID', 'AGE', 'SEX', 'COUNTRY']]\n",
        "cogdem = adasum.merge(demmerge, how='inner')\n",
        "#cogdem\n",
        "demmerge.shape, adasum.shape, cogdem.shape # just checking!"
      ],
      "execution_count": null,
      "outputs": [
        {
          "output_type": "execute_result",
          "data": {
            "text/plain": [
              "((7163, 4), (263815, 32), (263815, 35))"
            ]
          },
          "metadata": {
            "tags": []
          },
          "execution_count": 73
        }
      ]
    },
    {
      "cell_type": "markdown",
      "metadata": {
        "id": "Nw9_QuHfk1WJ"
      },
      "source": [
        "#### Get blood pressure data"
      ]
    },
    {
      "cell_type": "code",
      "metadata": {
        "id": "JAUoNSHEwZyj"
      },
      "source": [
        "scpath = path + '/sc.csv'\n",
        "sc = pd.read_csv(scpath)"
      ],
      "execution_count": null,
      "outputs": []
    },
    {
      "cell_type": "code",
      "metadata": {
        "colab": {
          "base_uri": "https://localhost:8080/"
        },
        "id": "4_-bISL_zFkv",
        "outputId": "da3ba98c-b426-43ed-9d2d-9544c15cdd28"
      },
      "source": [
        "edutainment = sc[sc.SCTEST=='Level of Education Attained']"
      ],
      "execution_count": null,
      "outputs": [
        {
          "output_type": "execute_result",
          "data": {
            "text/plain": [
              "(1345, 22)"
            ]
          },
          "metadata": {
            "tags": []
          },
          "execution_count": 100
        }
      ]
    },
    {
      "cell_type": "code",
      "metadata": {
        "colab": {
          "base_uri": "https://localhost:8080/"
        },
        "id": "5CFk1S1009W0",
        "outputId": "ddcd3e5e-b041-4a27-9d69-d2d840d99f4b"
      },
      "source": [
        "collections.Counter(edutainment.SCSTRESC)\n",
        "sc.shape"
      ],
      "execution_count": null,
      "outputs": [
        {
          "output_type": "execute_result",
          "data": {
            "text/plain": [
              "(1345, 22)"
            ]
          },
          "metadata": {
            "tags": []
          },
          "execution_count": 101
        }
      ]
    },
    {
      "cell_type": "code",
      "metadata": {
        "colab": {
          "base_uri": "https://localhost:8080/"
        },
        "id": "W-CnQd731dq5",
        "outputId": "aee4689d-9d26-4122-d03d-c2ae4d5e5c79"
      },
      "source": [
        "# Clearly Educational attainment only available for a small subset of people \n",
        "# but in those in whom it is available it might be a useful indicator"
      ],
      "execution_count": null,
      "outputs": [
        {
          "output_type": "execute_result",
          "data": {
            "text/plain": [
              "(1345, 22)"
            ]
          },
          "metadata": {
            "tags": []
          },
          "execution_count": 99
        }
      ]
    },
    {
      "cell_type": "code",
      "metadata": {
        "colab": {
          "base_uri": "https://localhost:8080/"
        },
        "id": "jw_f6ooz2Xly",
        "outputId": "0611deec-3870-4ceb-b686-804e10c725c7"
      },
      "source": [
        "mhpath = path + '/mh.csv'\n",
        "mh = pd.read_csv(mhpath)"
      ],
      "execution_count": null,
      "outputs": [
        {
          "output_type": "stream",
          "text": [
            "/usr/local/lib/python3.7/dist-packages/IPython/core/interactiveshell.py:2718: DtypeWarning: Columns (0,20) have mixed types.Specify dtype option on import or set low_memory=False.\n",
            "  interactivity=interactivity, compiler=compiler, result=result)\n"
          ],
          "name": "stderr"
        }
      ]
    },
    {
      "cell_type": "code",
      "metadata": {
        "colab": {
          "base_uri": "https://localhost:8080/"
        },
        "id": "51acQZJn27PK",
        "outputId": "cade78bd-4efe-4466-bf7f-951158774aae"
      },
      "source": [
        "pprint(mh.columns)\n",
        "mh.shape\n",
        "medhx = mh[['USUBJID', 'MHTERM']]\n",
        "medhx.MHTERM = [str(row).lower() for row in medhx.MHTERM]\n",
        "medhx.shape\n",
        "medhxwide = medhx.groupby('USUBJID')['MHTERM'].apply(list).reset_index()\n",
        "medhxwide.shape"
      ],
      "execution_count": null,
      "outputs": [
        {
          "output_type": "stream",
          "text": [
            "Index(['STUDYID', 'DOMAIN', 'USUBJID', 'MHSEQ', 'MHGRPID', 'MHREFID', 'MHSPID',\n",
            "       'MHTERM', 'MHMODIFY', 'MHLLT', 'MHDECOD', 'MHHLT', 'MHHLGT', 'MHCAT',\n",
            "       'MHSCAT', 'MHPRESP', 'MHOCCUR', 'MHSTAT', 'MHREASND', 'MHBODSYS',\n",
            "       'MHSOC', 'MHLOC', 'MHLAT', 'MHSEV', 'MHPATT', 'MHCONTRT', 'MHTOXGR',\n",
            "       'VISITNUM', 'VISIT', 'EPOCH', 'MHDTC', 'MHSTDTC', 'MHENDTC', 'MHDY',\n",
            "       'MHSTDY', 'MHENDY', 'MHDUR', 'MHSTRF', 'MHENRF', 'MHEVLINT', 'MHSTRTPT',\n",
            "       'MHSTTPT', 'MHENRTPT', 'MHENTPT'],\n",
            "      dtype='object')\n"
          ],
          "name": "stdout"
        },
        {
          "output_type": "stream",
          "text": [
            "/usr/local/lib/python3.7/dist-packages/pandas/core/generic.py:5170: SettingWithCopyWarning: \n",
            "A value is trying to be set on a copy of a slice from a DataFrame.\n",
            "Try using .loc[row_indexer,col_indexer] = value instead\n",
            "\n",
            "See the caveats in the documentation: https://pandas.pydata.org/pandas-docs/stable/user_guide/indexing.html#returning-a-view-versus-a-copy\n",
            "  self[name] = value\n"
          ],
          "name": "stderr"
        },
        {
          "output_type": "execute_result",
          "data": {
            "text/plain": [
              "(7147, 2)"
            ]
          },
          "metadata": {
            "tags": []
          },
          "execution_count": 297
        }
      ]
    },
    {
      "cell_type": "code",
      "metadata": {
        "id": "Rs3eTwPr6GYY"
      },
      "source": [
        "def findTermIndex(term, df, series): # looks for a term in each line\n",
        "    outlist=[]\n",
        "    for number, row in enumerate(df[series]):\n",
        "        outlist.append(any([term in item for item in df[series][number]]))\n",
        "    return(outlist)\n",
        "\n",
        "def findTermListIndex(termlist, df, series): # looks for *each* term in each line\n",
        "    outlist=[]\n",
        "    for term in termlist:\n",
        "        outlist.append(findTermIndex(term, df, series))\n",
        "    outlist = list(zip(*outlist))\n",
        "    return [any(item) for item in outlist]\n",
        "\n",
        "def searchToColumn(colname, termlist,df ,series): # appends found terms to the dataframe\n",
        "    df[colname] = findTermListIndex(termlist, df, series)\n",
        "    return collections.Counter(df[colname]) # side effects!\n"
      ],
      "execution_count": null,
      "outputs": []
    },
    {
      "cell_type": "code",
      "metadata": {
        "colab": {
          "base_uri": "https://localhost:8080/"
        },
        "id": "zkSTjMl1HCiq",
        "outputId": "15c290aa-e5b4-41a6-bd2b-33d280729ebd"
      },
      "source": [
        ""
      ],
      "execution_count": null,
      "outputs": [
        {
          "output_type": "execute_result",
          "data": {
            "text/plain": [
              "Counter({False: 4422, True: 2725})"
            ]
          },
          "metadata": {
            "tags": []
          },
          "execution_count": 288
        }
      ]
    },
    {
      "cell_type": "code",
      "metadata": {
        "colab": {
          "base_uri": "https://localhost:8080/",
          "height": 402
        },
        "id": "40rFmrcV_fan",
        "outputId": "b078e3c6-41b0-43ed-ebb3-adebd72fea63"
      },
      "source": [
        "# iterate over this dictionary to create seperate disease columns:\n",
        "# dict = {'columnName1' : ['searchTermA', 'searchTermB']  etc.}\n",
        "\n",
        "termdict = {'STROKE': ['stroke', 'transient ischem', 'transient ischaem', 'tia', 't.i.a', 'cva', 'c.v.a'],\n",
        "            'HYPERTENSION': ['hyperten', 'blood press', 'htn'],\n",
        "            'COPD': ['copd', 'chronic obstructive lung', 'emphysema']}\n",
        "\n",
        "for key, value in termdict.items():\n",
        "    searchToColumn(key, value, medhxwide, 'MHTERM')\n",
        "\n",
        "medhxwide\n"
      ],
      "execution_count": null,
      "outputs": [
        {
          "output_type": "execute_result",
          "data": {
            "text/html": [
              "<div>\n",
              "<style scoped>\n",
              "    .dataframe tbody tr th:only-of-type {\n",
              "        vertical-align: middle;\n",
              "    }\n",
              "\n",
              "    .dataframe tbody tr th {\n",
              "        vertical-align: top;\n",
              "    }\n",
              "\n",
              "    .dataframe thead th {\n",
              "        text-align: right;\n",
              "    }\n",
              "</style>\n",
              "<table border=\"1\" class=\"dataframe\">\n",
              "  <thead>\n",
              "    <tr style=\"text-align: right;\">\n",
              "      <th></th>\n",
              "      <th>USUBJID</th>\n",
              "      <th>MHTERM</th>\n",
              "      <th>STROKE</th>\n",
              "      <th>HYPERTENSION</th>\n",
              "      <th>COPD</th>\n",
              "    </tr>\n",
              "  </thead>\n",
              "  <tbody>\n",
              "    <tr>\n",
              "      <th>0</th>\n",
              "      <td>1000-13199-33002</td>\n",
              "      <td>[alzheimer's disease, high cholesterol, patien...</td>\n",
              "      <td>False</td>\n",
              "      <td>False</td>\n",
              "      <td>False</td>\n",
              "    </tr>\n",
              "    <tr>\n",
              "      <th>1</th>\n",
              "      <td>1000-13887-32708</td>\n",
              "      <td>[allergic rhinitis, allergic to cats, allergic...</td>\n",
              "      <td>False</td>\n",
              "      <td>True</td>\n",
              "      <td>False</td>\n",
              "    </tr>\n",
              "    <tr>\n",
              "      <th>2</th>\n",
              "      <td>1000-13887-32709</td>\n",
              "      <td>[alzheimer's disease, anxiety-stable, hard of ...</td>\n",
              "      <td>False</td>\n",
              "      <td>False</td>\n",
              "      <td>False</td>\n",
              "    </tr>\n",
              "    <tr>\n",
              "      <th>3</th>\n",
              "      <td>1000-13887-32712</td>\n",
              "      <td>[alzheimer's disease, alzheimer's disease, dep...</td>\n",
              "      <td>False</td>\n",
              "      <td>False</td>\n",
              "      <td>False</td>\n",
              "    </tr>\n",
              "    <tr>\n",
              "      <th>4</th>\n",
              "      <td>1000-13981-33101</td>\n",
              "      <td>[alzheimer's disease, asthma, benign breast ca...</td>\n",
              "      <td>False</td>\n",
              "      <td>True</td>\n",
              "      <td>False</td>\n",
              "    </tr>\n",
              "    <tr>\n",
              "      <th>...</th>\n",
              "      <td>...</td>\n",
              "      <td>...</td>\n",
              "      <td>...</td>\n",
              "      <td>...</td>\n",
              "      <td>...</td>\n",
              "    </tr>\n",
              "    <tr>\n",
              "      <th>7142</th>\n",
              "      <td>STUDY01-927-S79062</td>\n",
              "      <td>[ecg - complete right bundle branch block, ins...</td>\n",
              "      <td>False</td>\n",
              "      <td>False</td>\n",
              "      <td>False</td>\n",
              "    </tr>\n",
              "    <tr>\n",
              "      <th>7143</th>\n",
              "      <td>STUDY01-927-S79087</td>\n",
              "      <td>[allergic to penicillin macrodentin, ferodanti...</td>\n",
              "      <td>False</td>\n",
              "      <td>False</td>\n",
              "      <td>False</td>\n",
              "    </tr>\n",
              "    <tr>\n",
              "      <th>7144</th>\n",
              "      <td>STUDY01-927-S79092</td>\n",
              "      <td>[fungal infection left great toe, mild cogniti...</td>\n",
              "      <td>False</td>\n",
              "      <td>False</td>\n",
              "      <td>False</td>\n",
              "    </tr>\n",
              "    <tr>\n",
              "      <th>7145</th>\n",
              "      <td>STUDY01-928-S79026</td>\n",
              "      <td>[diverticulitis, elevated cholesterol, fortnig...</td>\n",
              "      <td>False</td>\n",
              "      <td>True</td>\n",
              "      <td>False</td>\n",
              "    </tr>\n",
              "    <tr>\n",
              "      <th>7146</th>\n",
              "      <td>STUDY01-928-S79027</td>\n",
              "      <td>[cyst in the right breast aspirated 2 yrs ago,...</td>\n",
              "      <td>False</td>\n",
              "      <td>False</td>\n",
              "      <td>False</td>\n",
              "    </tr>\n",
              "  </tbody>\n",
              "</table>\n",
              "<p>7147 rows × 5 columns</p>\n",
              "</div>"
            ],
            "text/plain": [
              "                 USUBJID  ...   COPD\n",
              "0       1000-13199-33002  ...  False\n",
              "1       1000-13887-32708  ...  False\n",
              "2       1000-13887-32709  ...  False\n",
              "3       1000-13887-32712  ...  False\n",
              "4       1000-13981-33101  ...  False\n",
              "...                  ...  ...    ...\n",
              "7142  STUDY01-927-S79062  ...  False\n",
              "7143  STUDY01-927-S79087  ...  False\n",
              "7144  STUDY01-927-S79092  ...  False\n",
              "7145  STUDY01-928-S79026  ...  False\n",
              "7146  STUDY01-928-S79027  ...  False\n",
              "\n",
              "[7147 rows x 5 columns]"
            ]
          },
          "metadata": {
            "tags": []
          },
          "execution_count": 305
        }
      ]
    },
    {
      "cell_type": "code",
      "metadata": {
        "colab": {
          "base_uri": "https://localhost:8080/"
        },
        "id": "4xEu_s2Y9wNC",
        "outputId": "f72c4be9-aa0b-465f-ec5a-8394474cb0cd"
      },
      "source": [
        "# get UNIQUE names, might be cleaner\n"
      ],
      "execution_count": null,
      "outputs": [
        {
          "output_type": "stream",
          "text": [
            "Index(['STUDYID', 'DOMAIN', 'USUBJID', 'MHSEQ', 'MHGRPID', 'MHREFID', 'MHSPID',\n",
            "       'MHTERM', 'MHMODIFY', 'MHLLT', 'MHDECOD', 'MHHLT', 'MHHLGT', 'MHCAT',\n",
            "       'MHSCAT', 'MHPRESP', 'MHOCCUR', 'MHSTAT', 'MHREASND', 'MHBODSYS',\n",
            "       'MHSOC', 'MHLOC', 'MHLAT', 'MHSEV', 'MHPATT', 'MHCONTRT', 'MHTOXGR',\n",
            "       'VISITNUM', 'VISIT', 'EPOCH', 'MHDTC', 'MHSTDTC', 'MHENDTC', 'MHDY',\n",
            "       'MHSTDY', 'MHENDY', 'MHDUR', 'MHSTRF', 'MHENRF', 'MHEVLINT', 'MHSTRTPT',\n",
            "       'MHSTTPT', 'MHENRTPT', 'MHENTPT'],\n",
            "      dtype='object')\n"
          ],
          "name": "stdout"
        },
        {
          "output_type": "execute_result",
          "data": {
            "text/plain": [
              "0       NaN\n",
              "1       NaN\n",
              "2       NaN\n",
              "3       NaN\n",
              "4       NaN\n",
              "         ..\n",
              "94223   NaN\n",
              "94224   NaN\n",
              "94225   NaN\n",
              "94226   NaN\n",
              "94227   NaN\n",
              "Name: MHDUR, Length: 94228, dtype: float64"
            ]
          },
          "metadata": {
            "tags": []
          },
          "execution_count": 311
        }
      ]
    },
    {
      "cell_type": "code",
      "metadata": {
        "colab": {
          "base_uri": "https://localhost:8080/"
        },
        "id": "r3OPqJgRREjr",
        "outputId": "ebd99a2d-301f-498f-f998-f37e9422edb9"
      },
      "source": [
        "vspath = path + '/vs.csv'\n",
        "vs = pd.read_csv(vspath)"
      ],
      "execution_count": null,
      "outputs": [
        {
          "output_type": "stream",
          "text": [
            "/usr/local/lib/python3.7/dist-packages/IPython/core/interactiveshell.py:2718: DtypeWarning: Columns (0,9,11,12,14,17,19,23) have mixed types.Specify dtype option on import or set low_memory=False.\n",
            "  interactivity=interactivity, compiler=compiler, result=result)\n"
          ],
          "name": "stderr"
        }
      ]
    },
    {
      "cell_type": "code",
      "metadata": {
        "colab": {
          "base_uri": "https://localhost:8080/"
        },
        "id": "H6xtJX5tdWPe",
        "outputId": "1764ca4b-897f-47c7-f74c-260a03d197dd"
      },
      "source": [
        "vs.shape"
      ],
      "execution_count": null,
      "outputs": [
        {
          "output_type": "execute_result",
          "data": {
            "text/plain": [
              "(245378, 35)"
            ]
          },
          "metadata": {
            "tags": []
          },
          "execution_count": 316
        }
      ]
    }
  ]
}